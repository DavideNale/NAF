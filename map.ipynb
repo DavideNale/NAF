{
 "cells": [
  {
   "cell_type": "code",
   "execution_count": 1,
   "metadata": {},
   "outputs": [
    {
     "name": "stdout",
     "output_type": "stream",
     "text": [
      "Loading data...\n"
     ]
    }
   ],
   "source": [
    "from pathlib import Path\n",
    "import pyloudnorm as pyln\n",
    "import torch\n",
    "import matplotlib.pyplot as plt\n",
    "import numpy as np\n",
    "\n",
    "from network import NAF\n",
    "from sound_loader import sound_samples\n",
    "from utilities import to_audio\n",
    "import utils.irutilities as irutil\n",
    "\n",
    "# Initialize LoudNorm object\n",
    "meter = pyln.Meter(48000) # create BS.1770 meter\n",
    "\n",
    "# Load dataset\n",
    "device = 'cuda' if torch.cuda.is_available() else 'cpu'\n",
    "print('Loading data...')\n",
    "dataset = sound_samples(num_samples=20)\n",
    "posMic, posSrc, irs = irutil.loadIR(Path('mesh_rir/S32-M441_npy/'))\n",
    "\n",
    "# Load NAF with selected configuration\n",
    "net = NAF(input_dim = 288, min_xy=np.array([-1, -1]), max_xy=np.array([1, 1])).to(device)\n",
    "state_dict = torch.load('saved/net_20230922_125934_loss_0.0002572.pth')\n",
    "net.load_state_dict(state_dict)\n",
    "net.eval()\n",
    "posMic = dataset.posMic\n",
    "posSrc = dataset.posSrc\n"
   ]
  },
  {
   "cell_type": "code",
   "execution_count": 3,
   "metadata": {},
   "outputs": [
    {
     "name": "stdout",
     "output_type": "stream",
     "text": [
      "Doing things...\n"
     ]
    }
   ],
   "source": [
    "# Generate grid for inference\n",
    "num_points = 35 # for each axis\n",
    "x_values = np.linspace(-0.5, 0.5, num_points)\n",
    "y_values = np.linspace(-0.5, 0.5, num_points)\n",
    "xx, yy = np.meshgrid(x_values, y_values)\n",
    "grid_points = np.column_stack((xx.ravel(), yy.ravel()))\n",
    "\n",
    "# Perform inference\n",
    "src = torch.tensor(posSrc[0]).unsqueeze(1).to(device)\n",
    "result = np.zeros(grid_points.shape[0])\n",
    "\n",
    "print('Doing things...')\n",
    "for i, point in enumerate(grid_points):\n",
    "    point = np.concatenate((point, [0]))\n",
    "    mic = torch.tensor(point).unsqueeze(1).to(device)\n",
    "    out = net.spectrogram_at(src, mic).cpu()\n",
    "    out_s = (out[:,:,0] * 40) - 40\n",
    "    #out_s[out_s > -15] /= 2\n",
    "    out_p = out[:,:,1] * 180\n",
    "\n",
    "    audio = to_audio(out_s, out_p)\n",
    "    loudness = meter.integrated_loudness(audio)\n",
    "    result[i] = loudness\n",
    "\n",
    "\n",
    "reshaped_array = result.reshape(35, 35)\n",
    "\n",
    "# Create a heatmap plot\n",
    "plt.imshow(reshaped_array, cmap='viridis', interpolation='nearest')\n",
    "plt.colorbar()\n",
    "plt.show()\n"
   ]
  },
  {
   "cell_type": "code",
   "execution_count": null,
   "metadata": {},
   "outputs": [],
   "source": [
    "log_array = np.log(20 * reshaped_array)\n",
    "plt.imshow(log_array, cmap='viridis', interpolation='nearest')\n",
    "plt.colorbar()\n",
    "plt.show()\n",
    "print(src)"
   ]
  },
  {
   "cell_type": "code",
   "execution_count": null,
   "metadata": {},
   "outputs": [],
   "source": [
    "gt_ir = irs[0,:,:]\n",
    "print(gt_ir.shape)\n",
    "\n",
    "loud = np.empty((441, 1), dtype=gt_ir.dtype)\n",
    "\n",
    "# Iterate through each row and process it\n",
    "for i in range(gt_ir.shape[0]):\n",
    "    # Process the current row (e.g., calculate the sum)\n",
    "    processed_row = np.sum(np.abs(gt_ir[i, :])) # Replace with your processing logic\n",
    "    \n",
    "    # Assign the processed result to the corresponding row in the result array\n",
    "    loud[i, 0] = processed_row\n",
    "\n",
    "loud = loud.reshape(21,21)\n",
    "plt.figure()\n",
    "plt.imshow(loud, aspect='auto')\n",
    "plt.show()"
   ]
  }
 ],
 "metadata": {
  "kernelspec": {
   "display_name": "nerf",
   "language": "python",
   "name": "python3"
  },
  "language_info": {
   "codemirror_mode": {
    "name": "ipython",
    "version": 3
   },
   "file_extension": ".py",
   "mimetype": "text/x-python",
   "name": "python",
   "nbconvert_exporter": "python",
   "pygments_lexer": "ipython3",
   "version": "3.10.12"
  },
  "orig_nbformat": 4
 },
 "nbformat": 4,
 "nbformat_minor": 2
}
