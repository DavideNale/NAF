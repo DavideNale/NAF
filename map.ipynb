{
 "cells": [
  {
   "cell_type": "code",
   "execution_count": 2,
   "metadata": {},
   "outputs": [
    {
     "name": "stdout",
     "output_type": "stream",
     "text": [
      "Loading data...\n",
      "Doing things...\n"
     ]
    }
   ],
   "source": [
    "from pathlib import Path\n",
    "import pyloudnorm as pyln\n",
    "import torch\n",
    "import matplotlib.pyplot as plt\n",
    "import numpy as np\n",
    "\n",
    "from network import NAF\n",
    "from sound_loader import sound_samples\n",
    "from utilities import to_audio\n",
    "import utils.irutilities as irutil\n",
    "\n",
    "# Initialize LoudNorm object\n",
    "meter = pyln.Meter(48000) # create BS.1770 meter\n",
    "\n",
    "# Load dataset\n",
    "device = 'cuda' if torch.cuda.is_available() else 'cpu'\n",
    "print('Loading data...')\n",
    "dataset = sound_samples(num_samples=20)\n",
    "posMic, posSrc, irs = irutil.loadIR(Path('mesh_rir/S32-M441_npy/'))\n",
    "\n",
    "# Load NAF with selected configuration\n",
    "net = NAF(input_dim = 416, min_xy=np.array([-1, -1]), max_xy=np.array([1, 1])).to(device)\n",
    "state_dict = torch.load('saved/net_20230916_144210_loss_0.0009301.pth')\n",
    "net.load_state_dict(state_dict)\n",
    "net.eval()\n",
    "\n",
    "# Generate grid for inference\n",
    "num_points = 35 # for each axis\n",
    "x_values = np.linspace(-1, 1, num_points)\n",
    "y_values = np.linspace(-1, 1, num_points)\n",
    "xx, yy = np.meshgrid(x_values, y_values)\n",
    "grid_points = np.column_stack((xx.ravel(), yy.ravel()))\n",
    "\n",
    "# Perform inference\n",
    "src = torch.tensor(posSrc[0]).unsqueeze(1).to(device)\n",
    "result = np.zeros(grid_points.shape[0])\n",
    "\n",
    "print('Doing things...')\n",
    "for i, point in enumerate(grid_points):\n",
    "    point = np.concatenate((point, [0]))\n",
    "    mic = torch.tensor(point).unsqueeze(1).to(device)\n",
    "    out = net.spectrogram_at(src, mic).cpu()\n",
    "    out_s = (out[:,:,0] * 40) - 40\n",
    "    #out_s[out_s > -15] /= 2\n",
    "    out_p = out[:,:,1] * 180\n",
    "\n",
    "    audio = to_audio(out_s, out_p)\n",
    "    loudness = np.max(np.abs(audio))\n",
    "    result[i] = loudness\n",
    "\n",
    "\n",
    "reshaped_array = result.reshape(35, 35)\n",
    "\n",
    "# Create a heatmap plot\n",
    "plt.imshow(reshaped_array, cmap='viridis', interpolation='nearest')\n",
    "plt.colorbar()\n",
    "plt.show()\n"
   ]
  },
  {
   "cell_type": "code",
   "execution_count": null,
   "metadata": {},
   "outputs": [],
   "source": [
    "log_array = 20 * np.log10(reshaped_array)\n",
    "plt.imshow(log_array, cmap='viridis', interpolation='nearest')\n",
    "plt.colorbar()\n",
    "plt.show()"
   ]
  }
 ],
 "metadata": {
  "kernelspec": {
   "display_name": "nerf",
   "language": "python",
   "name": "python3"
  },
  "language_info": {
   "codemirror_mode": {
    "name": "ipython",
    "version": 3
   },
   "file_extension": ".py",
   "mimetype": "text/x-python",
   "name": "python",
   "nbconvert_exporter": "python",
   "pygments_lexer": "ipython3",
   "version": "3.10.12"
  },
  "orig_nbformat": 4
 },
 "nbformat": 4,
 "nbformat_minor": 2
}
